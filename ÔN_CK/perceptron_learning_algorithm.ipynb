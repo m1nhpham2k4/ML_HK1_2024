{
 "cells": [
  {
   "cell_type": "code",
   "execution_count": null,
   "metadata": {},
   "outputs": [],
   "source": [
    "# generate data\n",
    "# list of points\n",
    "import numpy as np \n",
    "import matplotlib.pyplot as plt\n",
    "from scipy.spatial.distance import cdist\n",
    "\n",
    "np.random.seed(2)"
   ]
  },
  {
   "cell_type": "code",
   "execution_count": 14,
   "metadata": {},
   "outputs": [
    {
     "name": "stdout",
     "output_type": "stream",
     "text": [
      "X0 [[1.67657074 2.12880387 2.26908635 1.35082428 1.25536335 1.58672124\n",
      "  2.05228761 2.61197243 2.84442429 2.87417083]\n",
      " [2.63569993 1.75009054 1.6704512  1.51642964 1.65883024 2.02298231\n",
      "  1.75613874 2.41154256 3.66103384 2.83989658]]\n",
      "X1 [[5.11172013 4.10924821 3.95711388 4.22448673 3.8182477  4.02136443\n",
      "  3.93580126 5.17411589 3.84202124 3.4062144 ]\n",
      " [2.20584714 1.97299717 2.20261025 2.39388876 1.66850086 2.26215508\n",
      "  2.00694779 3.2002868  1.78143285 2.2578772 ]]\n",
      "X [[1.67657074 2.12880387 2.26908635 1.35082428 1.25536335 1.58672124\n",
      "  2.05228761 2.61197243 2.84442429 2.87417083 5.11172013 4.10924821\n",
      "  3.95711388 4.22448673 3.8182477  4.02136443 3.93580126 5.17411589\n",
      "  3.84202124 3.4062144 ]\n",
      " [2.63569993 1.75009054 1.6704512  1.51642964 1.65883024 2.02298231\n",
      "  1.75613874 2.41154256 3.66103384 2.83989658 2.20584714 1.97299717\n",
      "  2.20261025 2.39388876 1.66850086 2.26215508 2.00694779 3.2002868\n",
      "  1.78143285 2.2578772 ]]\n",
      "Xbar [[1.         1.         1.         1.         1.         1.\n",
      "  1.         1.         1.         1.         1.         1.\n",
      "  1.         1.         1.         1.         1.         1.\n",
      "  1.         1.        ]\n",
      " [1.67657074 2.12880387 2.26908635 1.35082428 1.25536335 1.58672124\n",
      "  2.05228761 2.61197243 2.84442429 2.87417083 5.11172013 4.10924821\n",
      "  3.95711388 4.22448673 3.8182477  4.02136443 3.93580126 5.17411589\n",
      "  3.84202124 3.4062144 ]\n",
      " [2.63569993 1.75009054 1.6704512  1.51642964 1.65883024 2.02298231\n",
      "  1.75613874 2.41154256 3.66103384 2.83989658 2.20584714 1.97299717\n",
      "  2.20261025 2.39388876 1.66850086 2.26215508 2.00694779 3.2002868\n",
      "  1.78143285 2.2578772 ]]\n"
     ]
    }
   ],
   "source": [
    "# Tọa độ trung bình (mean) của hai cụm dữ liệu\n",
    "means = [[2, 2], [4, 2]]\n",
    "# Ma trận hiệp phương sai (covariance matrix) để tạo dữ liệu phân tán\n",
    "cov = [[.3, .2], [.2, .3]]\n",
    "# Số lượng mẫu cho mỗi cụm\n",
    "N = 10\n",
    "\n",
    "# Tạo data từ cụm đầu tiên (X0) với tạo độ trung bình means[0] và ma trận hiệp phương sai\n",
    "X0 = np.random.multivariate_normal(means[0], cov, N).T\n",
    "# Tạo data từ cụm đầu tiên (X1) với tạo độ trung bình means[1] và ma trận hiệp phương sai\n",
    "X1 = np.random.multivariate_normal(means[1], cov, N).T\n",
    "\n",
    "# Ghép dữ liệu từ cả hai cụm thành ma trận X\n",
    "X = np.concatenate((X0, X1), axis = 1)\n",
    "# Tạo nhãn labels với nhãn 1 là 1 và nhãn 2 là -1\n",
    "y = np.concatenate((np.ones((1, N)), -1 * np.ones((1, N))), axis = 1)\n",
    "\n",
    "# Ouput data\n",
    "print(f\"X0 {X0}\")\n",
    "print(f\"X1 {X1}\")\n",
    "print(f\"X {X}\")\n",
    "# Xbar\n",
    "X = np.concatenate((np.ones((1, 2 * N)), X), axis = 0)\n",
    "print(f\"Xbar {X}\")"
   ]
  },
  {
   "cell_type": "code",
   "execution_count": 15,
   "metadata": {},
   "outputs": [],
   "source": [
    "# Hàm tính đầu ra khi biết đầu vào x và weights w\n",
    "def h(w, x):    \n",
    "    return np.sign(np.dot(w.T, x))"
   ]
  },
  {
   "cell_type": "code",
   "execution_count": 16,
   "metadata": {},
   "outputs": [],
   "source": [
    "# Kiểm tra hội tụ. Cần so sánh h(w, X) với ground truth y. Giống nhau thì dừng thuật\n",
    "def has_converged(X, y, w):    \n",
    "    return np.array_equal(h(w, X), y) \n"
   ]
  },
  {
   "cell_type": "code",
   "execution_count": 19,
   "metadata": {},
   "outputs": [
    {
     "data": {
      "text/plain": [
       "[array([[-0.71901345],\n",
       "        [ 0.04057615],\n",
       "        [-0.44851529]]),\n",
       " array([[0.28098655],\n",
       "        [2.88500044],\n",
       "        [3.21251855]]),\n",
       " array([[-0.71901345],\n",
       "        [-1.33948628],\n",
       "        [ 0.81862979]]),\n",
       " array([[0.28098655],\n",
       "        [1.27248615],\n",
       "        [3.23017235]]),\n",
       " array([[-0.71901345],\n",
       "        [-2.13372826],\n",
       "        [ 0.97229515]]),\n",
       " array([[0.28098655],\n",
       "        [0.13535809],\n",
       "        [2.64274635]]),\n",
       " array([[-0.71901345],\n",
       "        [-3.82175579],\n",
       "        [ 0.4401361 ]]),\n",
       " array([[ 0.28098655],\n",
       "        [-0.94758496],\n",
       "        [ 3.28003268]]),\n",
       " array([[-0.71901345],\n",
       "        [-5.05683316],\n",
       "        [ 1.30703551]]),\n",
       " array([[ 0.28098655],\n",
       "        [-3.80146981],\n",
       "        [ 2.96586576]]),\n",
       " array([[ 1.28098655],\n",
       "        [-0.92729898],\n",
       "        [ 5.80576233]]),\n",
       " array([[ 0.28098655],\n",
       "        [-5.03654719],\n",
       "        [ 3.83276517]]),\n",
       " array([[ 1.28098655],\n",
       "        [-2.76746084],\n",
       "        [ 5.50321637]]),\n",
       " array([[ 0.28098655],\n",
       "        [-6.17367524],\n",
       "        [ 3.24533917]]),\n",
       " array([[ 1.28098655],\n",
       "        [-3.32925095],\n",
       "        [ 6.90637301]]),\n",
       " array([[ 0.28098655],\n",
       "        [-7.26505221],\n",
       "        [ 4.89942521]]),\n",
       " array([[ 1.28098655],\n",
       "        [-5.13624833],\n",
       "        [ 6.64951576]])]"
      ]
     },
     "execution_count": 19,
     "metadata": {},
     "output_type": "execute_result"
    }
   ],
   "source": [
    "# Hàm thực hiện PLA\n",
    "def perceptron(X, y, w_init):\n",
    "    w = [w_init]\n",
    "    N = X.shape[1]\n",
    "    d = X.shape[0]\n",
    "    mis_points = []\n",
    "    while True:\n",
    "        # Mix data\n",
    "        mix_id = np.random.permutation(N)\n",
    "        for i in range(N):\n",
    "            xi = X[:, mix_id[i]].reshape(d,1)\n",
    "            yi = y[0, mix_id[i]]\n",
    "            if h(w[-1], xi)[0] != yi: # misclassified point\n",
    "                mis_points.append(mix_id[i])\n",
    "                w_new = w[-1] + yi * xi\n",
    "                w.append(w_new)\n",
    "        if has_converged(X, y, w[-1]):\n",
    "            break\n",
    "    return (w, mis_points)\n",
    "d = X.shape[0]\n",
    "w_init = np.random.randn(d, 1)\n",
    "(w, m) = perceptron(X, y, w_init)\n",
    "w"
   ]
  },
  {
   "cell_type": "code",
   "execution_count": 20,
   "metadata": {},
   "outputs": [
    {
     "data": {
      "text/plain": [
       "[8, 13, 7, 19, 2, 12, 9, 11, 4, 9, 11, 2, 19, 8, 16, 1]"
      ]
     },
     "execution_count": 20,
     "metadata": {},
     "output_type": "execute_result"
    }
   ],
   "source": [
    "m"
   ]
  },
  {
   "cell_type": "code",
   "execution_count": null,
   "metadata": {},
   "outputs": [],
   "source": []
  }
 ],
 "metadata": {
  "kernelspec": {
   "display_name": ".venv",
   "language": "python",
   "name": "python3"
  },
  "language_info": {
   "codemirror_mode": {
    "name": "ipython",
    "version": 3
   },
   "file_extension": ".py",
   "mimetype": "text/x-python",
   "name": "python",
   "nbconvert_exporter": "python",
   "pygments_lexer": "ipython3",
   "version": "3.9.19"
  }
 },
 "nbformat": 4,
 "nbformat_minor": 2
}
