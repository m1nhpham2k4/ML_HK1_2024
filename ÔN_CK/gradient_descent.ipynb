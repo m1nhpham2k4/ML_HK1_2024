{
 "cells": [
  {
   "cell_type": "code",
   "execution_count": 2,
   "metadata": {},
   "outputs": [],
   "source": [
    "from __future__ import division, print_function, unicode_literals\n",
    "import math\n",
    "import numpy as np\n",
    "import matplotlib.pyplot as plt"
   ]
  },
  {
   "cell_type": "code",
   "execution_count": 3,
   "metadata": {},
   "outputs": [],
   "source": [
    "# Hàm tính đạo hàm\n",
    "def grad(x):\n",
    "    return 2 * x  + 5 * np.cos(x)"
   ]
  },
  {
   "cell_type": "code",
   "execution_count": 4,
   "metadata": {},
   "outputs": [],
   "source": [
    "# Hàm tính giá trị của hàm số\n",
    "# Hàm này không sử dụng trong thuật toán nhưng thường được dùng để kiểm tra việc tính đạo hàm của đúng không hoặc \n",
    "# để xem giá trị của hàm số có giảm theo mỗi vòng lặp hay không.\n",
    "\n",
    "def cost(x):\n",
    "    return x ** 2 + 5 * np.sin(x)\n"
   ]
  },
  {
   "cell_type": "code",
   "execution_count": 5,
   "metadata": {},
   "outputs": [],
   "source": [
    "# Phần chính thực hiện thuật toán GD.\n",
    "# Đầu vào là learning rate và điểm bắt đầu.\n",
    "# Thuật toán dừng khi đọa hàm có độ lớn đủ nhỏ.\n",
    "def myGD1(eta, x0):\n",
    "    x = [x0]\n",
    "    for it in range(100):\n",
    "        x_new = x[-1] - eta * grad(x[-1])\n",
    "        if abs(grad(x_new)) < 1e-3:\n",
    "            break\n",
    "        x.append(x_new)\n",
    "    return (x, it)"
   ]
  },
  {
   "cell_type": "code",
   "execution_count": 6,
   "metadata": {},
   "outputs": [
    {
     "name": "stdout",
     "output_type": "stream",
     "text": [
      "Solution x1 = -1.110667, cost = -3.246394, obtained after 11 iterations\n",
      "Solution x2 = -1.110341, cost = -3.246394, obtained after 29 iterations\n"
     ]
    }
   ],
   "source": [
    "(x1, it1) = myGD1(.1, -5)\n",
    "(x2, it2) = myGD1(.1, 5)\n",
    "print('Solution x1 = %f, cost = %f, obtained after %d iterations'%(x1[-1], cost(x1[-1]), it1))\n",
    "print('Solution x2 = %f, cost = %f, obtained after %d iterations'%(x2[-1], cost(x2[-1]), it2))"
   ]
  },
  {
   "cell_type": "markdown",
   "metadata": {},
   "source": [
    "Gradient Descent nhiều biến\n"
   ]
  },
  {
   "cell_type": "code",
   "execution_count": 7,
   "metadata": {},
   "outputs": [
    {
     "name": "stdout",
     "output_type": "stream",
     "text": [
      "Solution found by formula: w =  [[4.01086234 2.9943109 ]]\n"
     ]
    }
   ],
   "source": [
    "X = np.random.rand(1000, 1)\n",
    "y = 4 + 3 * X + .2*np.random.randn(1000, 1) # noise added\n",
    "\n",
    "# Building Xbar \n",
    "one = np.ones((X.shape[0],1))\n",
    "Xbar = np.concatenate((one, X), axis = 1)\n",
    "\n",
    "A = np.dot(Xbar.T, Xbar)\n",
    "b = np.dot(Xbar.T, y)\n",
    "w_lr = np.dot(np.linalg.pinv(A), b) # w_lr = X\n",
    "print('Solution found by formula: w = ',w_lr.T)"
   ]
  },
  {
   "cell_type": "code",
   "execution_count": 8,
   "metadata": {},
   "outputs": [
    {
     "data": {
      "image/png": "[encoded data removed]",
      "text/plain": [
       "<Figure size 640x480 with 1 Axes>"
      ]
     },
     "metadata": {},
     "output_type": "display_data"
    }
   ],
   "source": [
    "# Display result\n",
    "w = w_lr\n",
    "w_0 = w[0][0]\n",
    "w_1 = w[1][0]\n",
    "x0 = np.linspace(0, 1, 2, endpoint=True)\n",
    "y0 = w_0 + w_1*x0\n",
    "\n",
    "# Draw the fitting line \n",
    "plt.plot(X.T, y.T, 'b.')     # data \n",
    "plt.plot(x0, y0, 'y', linewidth = 2)   # the fitting line\n",
    "plt.axis([0, 1, 0, 10])\n",
    "plt.show()"
   ]
  },
  {
   "cell_type": "code",
   "execution_count": 9,
   "metadata": {},
   "outputs": [],
   "source": [
    "# Đạo hàm\n",
    "def grad(w):\n",
    "    N = Xbar.shape[0]\n",
    "    return 1/N * Xbar.T.dot(Xbar.dot(w) - y)"
   ]
  },
  {
   "cell_type": "code",
   "execution_count": 10,
   "metadata": {},
   "outputs": [],
   "source": [
    "# Hàm tính toán\n",
    "def cost(w):\n",
    "    N = Xbar.shape[0]\n",
    "    return .5/N*np.linalg.norm(y - Xbar.dot(w), 2)**2"
   ]
  },
  {
   "cell_type": "code",
   "execution_count": 11,
   "metadata": {},
   "outputs": [
    {
     "name": "stdout",
     "output_type": "stream",
     "text": [
      "Checking gradient... True\n"
     ]
    }
   ],
   "source": [
    "def numerical_grad(w, cost):\n",
    "    eps = 1e-4\n",
    "    g = np.zeros_like(w)\n",
    "    for i in range(len(w)):\n",
    "        w_p = w.copy()\n",
    "        w_n = w.copy()\n",
    "        w_p[i] += eps \n",
    "        w_n[i] -= eps\n",
    "        g[i] = (cost(w_p) - cost(w_n))/(2*eps)\n",
    "    return g \n",
    "\n",
    "def check_grad(w, cost, grad):\n",
    "    w = np.random.rand(w.shape[0], w.shape[1])\n",
    "    grad1 = grad(w)\n",
    "    grad2 = numerical_grad(w, cost)\n",
    "    return True if np.linalg.norm(grad1 - grad2) < 1e-6 else False \n",
    "\n",
    "print( 'Checking gradient...', check_grad(np.random.rand(2, 1), cost, grad))"
   ]
  },
  {
   "cell_type": "code",
   "execution_count": 12,
   "metadata": {},
   "outputs": [
    {
     "name": "stdout",
     "output_type": "stream",
     "text": [
      "Solution found by GD: w =  [[4.02591779 2.96587361]] ,\n",
      "after 50 iterations.\n"
     ]
    }
   ],
   "source": [
    "def myGD(w_init, grad, eta):\n",
    "    w = [w_init]\n",
    "    for it in range(100):\n",
    "        w_new = w[-1] - eta*grad(w[-1])\n",
    "        if np.linalg.norm(grad(w_new))/len(w_new) < 1e-3:\n",
    "            break \n",
    "        w.append(w_new)\n",
    "    return (w, it) \n",
    "\n",
    "w_init = np.array([[2], [1]])\n",
    "(w1, it1) = myGD(w_init, grad, 1)\n",
    "print('Solution found by GD: w = ', w1[-1].T, ',\\nafter %d iterations.' %(it1+1))"
   ]
  },
  {
   "cell_type": "code",
   "execution_count": 14,
   "metadata": {},
   "outputs": [],
   "source": [
    "# check convergence\n",
    "def has_converged(theta_new, grad):\n",
    "    return np.linalg.norm(grad(theta_new))/len(theta_new) < 1e-3"
   ]
  },
  {
   "cell_type": "code",
   "execution_count": 15,
   "metadata": {},
   "outputs": [],
   "source": [
    "def GD_momentum(theta_init, grad, eta,gamma):\n",
    "    # Lưu lịch sử của theta\n",
    "    theta = theta_init\n",
    "    v_old = np.zeros_like(theta_init)\n",
    "    for it in range(100):\n",
    "        v_new = gamma * v_old + eta * grad(theta[-1])\n",
    "        theta_new = theta[-1] - v_new\n",
    "        if has_converged(theta_new, grad):\n",
    "            break\n",
    "        theta.append(theta_new)\n",
    "        v_old = v_new\n",
    "    return theta\n",
    "# "
   ]
  },
  {
   "cell_type": "code",
   "execution_count": null,
   "metadata": {},
   "outputs": [],
   "source": []
  }
 ],
 "metadata": {
  "kernelspec": {
   "display_name": ".venv",
   "language": "python",
   "name": "python3"
  },
  "language_info": {
   "codemirror_mode": {
    "name": "ipython",
    "version": 3
   },
   "file_extension": ".py",
   "mimetype": "text/x-python",
   "name": "python",
   "nbconvert_exporter": "python",
   "pygments_lexer": "ipython3",
   "version": "3.9.19"
  }
 },
 "nbformat": 4,
 "nbformat_minor": 2
}
